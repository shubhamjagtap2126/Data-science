{
 "cells": [
  {
   "cell_type": "markdown",
   "id": "22293bc9",
   "metadata": {},
   "source": [
    "## nycflights datasets - R and Python analysis and visualisation"
   ]
  },
  {
   "cell_type": "code",
   "execution_count": 1,
   "id": "bfae4c12",
   "metadata": {
    "collapsed": true,
    "jupyter": {
     "outputs_hidden": true
    },
    "tags": []
   },
   "outputs": [
    {
     "name": "stderr",
     "output_type": "stream",
     "text": [
      "E:\\sakal\\miniconda3\\lib\\site-packages\\rpy2\\robjects\\packages.py:366: UserWarning: The symbol 'quartz' is not in this R namespace/package.\n",
      "  warnings.warn(\n"
     ]
    }
   ],
   "source": [
    "import rpy2\n",
    "%load_ext rpy2.ipython"
   ]
  },
  {
   "cell_type": "code",
   "execution_count": 2,
   "id": "3ece6f61",
   "metadata": {},
   "outputs": [],
   "source": [
    "%%R\n",
    "#pacman::p_load('nycflights13')\n",
    "\n",
    "pacman::p_load(readxl, dplyr, writexl, readr,stringi,data.table) #tidyverse\n",
    "# getwd() setwd"
   ]
  },
  {
   "cell_type": "code",
   "execution_count": 3,
   "id": "c6e0df15",
   "metadata": {
    "code_folding": [
     0
    ]
   },
   "outputs": [
    {
     "name": "stdout",
     "output_type": "stream",
     "text": [
      " [1] \"year\"           \"month\"          \"day\"            \"dep_time\"      \n",
      " [5] \"sched_dep_time\" \"dep_delay\"      \"arr_time\"       \"sched_arr_time\"\n",
      " [9] \"arr_delay\"      \"carrier\"        \"flight\"         \"tailnum\"       \n",
      "[13] \"origin\"         \"dest\"           \"air_time\"       \"distance\"      \n",
      "[17] \"hour\"           \"minute\"         \"time_hour\"     \n",
      "\u001b[38;5;246m# A tibble: 6 x 19\u001b[39m\n",
      "   year month   day dep_time sched_dep_time dep_delay arr_time sched_arr_time\n",
      "  \u001b[3m\u001b[38;5;246m<int>\u001b[39m\u001b[23m \u001b[3m\u001b[38;5;246m<int>\u001b[39m\u001b[23m \u001b[3m\u001b[38;5;246m<int>\u001b[39m\u001b[23m    \u001b[3m\u001b[38;5;246m<int>\u001b[39m\u001b[23m          \u001b[3m\u001b[38;5;246m<int>\u001b[39m\u001b[23m     \u001b[3m\u001b[38;5;246m<dbl>\u001b[39m\u001b[23m    \u001b[3m\u001b[38;5;246m<int>\u001b[39m\u001b[23m          \u001b[3m\u001b[38;5;246m<int>\u001b[39m\u001b[23m\n",
      "\u001b[38;5;250m1\u001b[39m  \u001b[4m2\u001b[24m013     1     1      517            515         2      830            819\n",
      "\u001b[38;5;250m2\u001b[39m  \u001b[4m2\u001b[24m013     1     1      533            529         4      850            830\n",
      "\u001b[38;5;250m3\u001b[39m  \u001b[4m2\u001b[24m013     1     1      542            540         2      923            850\n",
      "\u001b[38;5;250m4\u001b[39m  \u001b[4m2\u001b[24m013     1     1      544            545        -\u001b[31m1\u001b[39m     \u001b[4m1\u001b[24m004           \u001b[4m1\u001b[24m022\n",
      "\u001b[38;5;250m5\u001b[39m  \u001b[4m2\u001b[24m013     1     1      554            600        -\u001b[31m6\u001b[39m      812            837\n",
      "\u001b[38;5;250m6\u001b[39m  \u001b[4m2\u001b[24m013     1     1      554            558        -\u001b[31m4\u001b[39m      740            728\n",
      "\u001b[38;5;246m# ... with 11 more variables: arr_delay <dbl>, carrier <chr>, flight <int>,\u001b[39m\n",
      "\u001b[38;5;246m#   tailnum <chr>, origin <chr>, dest <chr>, air_time <dbl>, distance <dbl>,\u001b[39m\n",
      "\u001b[38;5;246m#   hour <dbl>, minute <dbl>, time_hour <dttm>\u001b[39m\n"
     ]
    }
   ],
   "source": [
    "%%R\n",
    "nycflights <- nycflights13::flights\n",
    "print(names(nycflights))\n",
    "head(nycflights)"
   ]
  },
  {
   "cell_type": "code",
   "execution_count": 4,
   "id": "362acd2a",
   "metadata": {
    "code_folding": [],
    "scrolled": true
   },
   "outputs": [
    {
     "name": "stdout",
     "output_type": "stream",
     "text": [
      "tibble [336,776 x 19] (S3: tbl_df/tbl/data.frame)\n",
      " $ year          : int [1:336776] 2013 2013 2013 2013 2013 2013 2013 2013 2013 2013 ...\n",
      " $ month         : int [1:336776] 1 1 1 1 1 1 1 1 1 1 ...\n",
      " $ day           : int [1:336776] 1 1 1 1 1 1 1 1 1 1 ...\n",
      " $ dep_time      : int [1:336776] 517 533 542 544 554 554 555 557 557 558 ...\n",
      " $ sched_dep_time: int [1:336776] 515 529 540 545 600 558 600 600 600 600 ...\n",
      " $ dep_delay     : num [1:336776] 2 4 2 -1 -6 -4 -5 -3 -3 -2 ...\n",
      " $ arr_time      : int [1:336776] 830 850 923 1004 812 740 913 709 838 753 ...\n",
      " $ sched_arr_time: int [1:336776] 819 830 850 1022 837 728 854 723 846 745 ...\n",
      " $ arr_delay     : num [1:336776] 11 20 33 -18 -25 12 19 -14 -8 8 ...\n",
      " $ carrier       : chr [1:336776] \"UA\" \"UA\" \"AA\" \"B6\" ...\n",
      " $ flight        : int [1:336776] 1545 1714 1141 725 461 1696 507 5708 79 301 ...\n",
      " $ tailnum       : chr [1:336776] \"N14228\" \"N24211\" \"N619AA\" \"N804JB\" ...\n",
      " $ origin        : chr [1:336776] \"EWR\" \"LGA\" \"JFK\" \"JFK\" ...\n",
      " $ dest          : chr [1:336776] \"IAH\" \"IAH\" \"MIA\" \"BQN\" ...\n",
      " $ air_time      : num [1:336776] 227 227 160 183 116 150 158 53 140 138 ...\n",
      " $ distance      : num [1:336776] 1400 1416 1089 1576 762 ...\n",
      " $ hour          : num [1:336776] 5 5 5 5 6 5 6 6 6 6 ...\n",
      " $ minute        : num [1:336776] 15 29 40 45 0 58 0 0 0 0 ...\n",
      " $ time_hour     : POSIXct[1:336776], format: \"2013-01-01 05:00:00\" \"2013-01-01 05:00:00\" ...\n"
     ]
    }
   ],
   "source": [
    "%%R\n",
    "str(nycflights)"
   ]
  },
  {
   "cell_type": "markdown",
   "id": "73db4897",
   "metadata": {},
   "source": [
    "## Dplyr package"
   ]
  },
  {
   "cell_type": "code",
   "execution_count": 7,
   "id": "2bf8e9f6",
   "metadata": {},
   "outputs": [
    {
     "name": "stdout",
     "output_type": "stream",
     "text": [
      "\u001b[38;5;246m# A tibble: 6 x 19\u001b[39m\n",
      "   year month   day dep_time sched_dep_time dep_delay arr_time sched_arr_time\n",
      "  \u001b[3m\u001b[38;5;246m<int>\u001b[39m\u001b[23m \u001b[3m\u001b[38;5;246m<int>\u001b[39m\u001b[23m \u001b[3m\u001b[38;5;246m<int>\u001b[39m\u001b[23m    \u001b[3m\u001b[38;5;246m<int>\u001b[39m\u001b[23m          \u001b[3m\u001b[38;5;246m<int>\u001b[39m\u001b[23m     \u001b[3m\u001b[38;5;246m<dbl>\u001b[39m\u001b[23m    \u001b[3m\u001b[38;5;246m<int>\u001b[39m\u001b[23m          \u001b[3m\u001b[38;5;246m<int>\u001b[39m\u001b[23m\n",
      "\u001b[38;5;250m1\u001b[39m  \u001b[4m2\u001b[24m013     1     1      517            515         2      830            819\n",
      "\u001b[38;5;250m2\u001b[39m  \u001b[4m2\u001b[24m013     1     1      533            529         4      850            830\n",
      "\u001b[38;5;250m3\u001b[39m  \u001b[4m2\u001b[24m013     1     1      542            540         2      923            850\n",
      "\u001b[38;5;250m4\u001b[39m  \u001b[4m2\u001b[24m013     1     1      544            545        -\u001b[31m1\u001b[39m     \u001b[4m1\u001b[24m004           \u001b[4m1\u001b[24m022\n",
      "\u001b[38;5;250m5\u001b[39m  \u001b[4m2\u001b[24m013     1     1      554            600        -\u001b[31m6\u001b[39m      812            837\n",
      "\u001b[38;5;250m6\u001b[39m  \u001b[4m2\u001b[24m013     1     1      554            558        -\u001b[31m4\u001b[39m      740            728\n",
      "\u001b[38;5;246m# ... with 11 more variables: arr_delay <dbl>, carrier <chr>, flight <int>,\u001b[39m\n",
      "\u001b[38;5;246m#   tailnum <chr>, origin <chr>, dest <chr>, air_time <dbl>, distance <dbl>,\u001b[39m\n",
      "\u001b[38;5;246m#   hour <dbl>, minute <dbl>, time_hour <dttm>\u001b[39m\n",
      "[1] \"_____________________________________________________________________________________\"\n",
      "\u001b[38;5;246m# A tibble: 6 x 19\u001b[39m\n",
      "   year month   day dep_time sched_dep_time dep_delay arr_time sched_arr_time\n",
      "  \u001b[3m\u001b[38;5;246m<int>\u001b[39m\u001b[23m \u001b[3m\u001b[38;5;246m<int>\u001b[39m\u001b[23m \u001b[3m\u001b[38;5;246m<int>\u001b[39m\u001b[23m    \u001b[3m\u001b[38;5;246m<int>\u001b[39m\u001b[23m          \u001b[3m\u001b[38;5;246m<int>\u001b[39m\u001b[23m     \u001b[3m\u001b[38;5;246m<dbl>\u001b[39m\u001b[23m    \u001b[3m\u001b[38;5;246m<int>\u001b[39m\u001b[23m          \u001b[3m\u001b[38;5;246m<int>\u001b[39m\u001b[23m\n",
      "\u001b[38;5;250m1\u001b[39m  \u001b[4m2\u001b[24m013     1     1      517            515         2      830            819\n",
      "\u001b[38;5;250m2\u001b[39m  \u001b[4m2\u001b[24m013     1     1      533            529         4      850            830\n",
      "\u001b[38;5;250m3\u001b[39m  \u001b[4m2\u001b[24m013     1     1      542            540         2      923            850\n",
      "\u001b[38;5;250m4\u001b[39m  \u001b[4m2\u001b[24m013     1     1      544            545        -\u001b[31m1\u001b[39m     \u001b[4m1\u001b[24m004           \u001b[4m1\u001b[24m022\n",
      "\u001b[38;5;250m5\u001b[39m  \u001b[4m2\u001b[24m013     1     1      554            600        -\u001b[31m6\u001b[39m      812            837\n",
      "\u001b[38;5;250m6\u001b[39m  \u001b[4m2\u001b[24m013     1     1      554            558        -\u001b[31m4\u001b[39m      740            728\n",
      "\u001b[38;5;246m# ... with 11 more variables: arr_delay <dbl>, carrier <chr>, flight <int>,\u001b[39m\n",
      "\u001b[38;5;246m#   tailnum <chr>, origin <chr>, dest <chr>, air_time <dbl>, distance <dbl>,\u001b[39m\n",
      "\u001b[38;5;246m#   hour <dbl>, minute <dbl>, time_hour <dttm>\u001b[39m\n",
      "[1] \"_____________________________________________________________________________________\"\n"
     ]
    }
   ],
   "source": [
    "%%R\n",
    "print(head(filter(nycflights, month == 1,day == 1)))\n",
    "print(\"_____________________________________________________________________________________\")\n",
    "print(head(nycflights %>% filter(month == 1 & day == 1)))\n",
    "print(\"_____________________________________________________________________________________\")"
   ]
  },
  {
   "cell_type": "code",
   "execution_count": 9,
   "id": "827f7615",
   "metadata": {},
   "outputs": [
    {
     "name": "stdout",
     "output_type": "stream",
     "text": [
      "\u001b[38;5;246m# A tibble: 6 x 19\u001b[39m\n",
      "   year month   day dep_time sched_dep_time dep_delay arr_time sched_arr_time\n",
      "  \u001b[3m\u001b[38;5;246m<int>\u001b[39m\u001b[23m \u001b[3m\u001b[38;5;246m<int>\u001b[39m\u001b[23m \u001b[3m\u001b[38;5;246m<int>\u001b[39m\u001b[23m    \u001b[3m\u001b[38;5;246m<int>\u001b[39m\u001b[23m          \u001b[3m\u001b[38;5;246m<int>\u001b[39m\u001b[23m     \u001b[3m\u001b[38;5;246m<dbl>\u001b[39m\u001b[23m    \u001b[3m\u001b[38;5;246m<int>\u001b[39m\u001b[23m          \u001b[3m\u001b[38;5;246m<int>\u001b[39m\u001b[23m\n",
      "\u001b[38;5;250m1\u001b[39m  \u001b[4m2\u001b[24m013    12     1       13           \u001b[4m2\u001b[24m359        14      446            445\n",
      "\u001b[38;5;250m2\u001b[39m  \u001b[4m2\u001b[24m013    12     1       17           \u001b[4m2\u001b[24m359        18      443            437\n",
      "\u001b[38;5;250m3\u001b[39m  \u001b[4m2\u001b[24m013    12     1      453            500        -\u001b[31m7\u001b[39m      636            651\n",
      "\u001b[38;5;250m4\u001b[39m  \u001b[4m2\u001b[24m013    12     1      520            515         5      749            808\n",
      "\u001b[38;5;250m5\u001b[39m  \u001b[4m2\u001b[24m013    12     1      536            540        -\u001b[31m4\u001b[39m      845            850\n",
      "\u001b[38;5;250m6\u001b[39m  \u001b[4m2\u001b[24m013    12     1      540            550       -\u001b[31m10\u001b[39m     \u001b[4m1\u001b[24m005           \u001b[4m1\u001b[24m027\n",
      "\u001b[38;5;246m# ... with 11 more variables: arr_delay <dbl>, carrier <chr>, flight <int>,\u001b[39m\n",
      "\u001b[38;5;246m#   tailnum <chr>, origin <chr>, dest <chr>, air_time <dbl>, distance <dbl>,\u001b[39m\n",
      "\u001b[38;5;246m#   hour <dbl>, minute <dbl>, time_hour <dttm>\u001b[39m\n",
      "[1] \"_____________________________________________________________________________________\"\n",
      "\u001b[38;5;246m# A tibble: 6 x 19\u001b[39m\n",
      "   year month   day dep_time sched_dep_time dep_delay arr_time sched_arr_time\n",
      "  \u001b[3m\u001b[38;5;246m<int>\u001b[39m\u001b[23m \u001b[3m\u001b[38;5;246m<int>\u001b[39m\u001b[23m \u001b[3m\u001b[38;5;246m<int>\u001b[39m\u001b[23m    \u001b[3m\u001b[38;5;246m<int>\u001b[39m\u001b[23m          \u001b[3m\u001b[38;5;246m<int>\u001b[39m\u001b[23m     \u001b[3m\u001b[38;5;246m<dbl>\u001b[39m\u001b[23m    \u001b[3m\u001b[38;5;246m<int>\u001b[39m\u001b[23m          \u001b[3m\u001b[38;5;246m<int>\u001b[39m\u001b[23m\n",
      "\u001b[38;5;250m1\u001b[39m  \u001b[4m2\u001b[24m013     1     1      517            515         2      830            819\n",
      "\u001b[38;5;250m2\u001b[39m  \u001b[4m2\u001b[24m013     1     1      533            529         4      850            830\n",
      "\u001b[38;5;250m3\u001b[39m  \u001b[4m2\u001b[24m013     1     1      542            540         2      923            850\n",
      "\u001b[38;5;250m4\u001b[39m  \u001b[4m2\u001b[24m013     1     1      544            545        -\u001b[31m1\u001b[39m     \u001b[4m1\u001b[24m004           \u001b[4m1\u001b[24m022\n",
      "\u001b[38;5;250m5\u001b[39m  \u001b[4m2\u001b[24m013     1     1      554            600        -\u001b[31m6\u001b[39m      812            837\n",
      "\u001b[38;5;250m6\u001b[39m  \u001b[4m2\u001b[24m013     1     1      554            558        -\u001b[31m4\u001b[39m      740            728\n",
      "\u001b[38;5;246m# ... with 11 more variables: arr_delay <dbl>, carrier <chr>, flight <int>,\u001b[39m\n",
      "\u001b[38;5;246m#   tailnum <chr>, origin <chr>, dest <chr>, air_time <dbl>, distance <dbl>,\u001b[39m\n",
      "\u001b[38;5;246m#   hour <dbl>, minute <dbl>, time_hour <dttm>\u001b[39m\n",
      "[1] \"_____________________________________________________________________________________\"\n",
      "\u001b[38;5;246m# A tibble: 6 x 19\u001b[39m\n",
      "   year month   day dep_time sched_dep_time dep_delay arr_time sched_arr_time\n",
      "  \u001b[3m\u001b[38;5;246m<int>\u001b[39m\u001b[23m \u001b[3m\u001b[38;5;246m<int>\u001b[39m\u001b[23m \u001b[3m\u001b[38;5;246m<int>\u001b[39m\u001b[23m    \u001b[3m\u001b[38;5;246m<int>\u001b[39m\u001b[23m          \u001b[3m\u001b[38;5;246m<int>\u001b[39m\u001b[23m     \u001b[3m\u001b[38;5;246m<dbl>\u001b[39m\u001b[23m    \u001b[3m\u001b[38;5;246m<int>\u001b[39m\u001b[23m          \u001b[3m\u001b[38;5;246m<int>\u001b[39m\u001b[23m\n",
      "\u001b[38;5;250m1\u001b[39m  \u001b[4m2\u001b[24m013     1    11     \u001b[4m1\u001b[24m900           \u001b[4m1\u001b[24m930       -\u001b[31m30\u001b[39m     \u001b[4m2\u001b[24m233           \u001b[4m2\u001b[24m243\n",
      "\u001b[38;5;250m2\u001b[39m  \u001b[4m2\u001b[24m013     1    29     \u001b[4m1\u001b[24m703           \u001b[4m1\u001b[24m730       -\u001b[31m27\u001b[39m     \u001b[4m1\u001b[24m947           \u001b[4m1\u001b[24m957\n",
      "\u001b[38;5;250m3\u001b[39m  \u001b[4m2\u001b[24m013     1    12     \u001b[4m1\u001b[24m354           \u001b[4m1\u001b[24m416       -\u001b[31m22\u001b[39m     \u001b[4m1\u001b[24m606           \u001b[4m1\u001b[24m650\n",
      "\u001b[38;5;250m4\u001b[39m  \u001b[4m2\u001b[24m013     1    21     \u001b[4m2\u001b[24m137           \u001b[4m2\u001b[24m159       -\u001b[31m22\u001b[39m     \u001b[4m2\u001b[24m232           \u001b[4m2\u001b[24m316\n",
      "\u001b[38;5;250m5\u001b[39m  \u001b[4m2\u001b[24m013     1    20      704            725       -\u001b[31m21\u001b[39m     \u001b[4m1\u001b[24m025           \u001b[4m1\u001b[24m035\n",
      "\u001b[38;5;250m6\u001b[39m  \u001b[4m2\u001b[24m013     1    12     \u001b[4m2\u001b[24m050           \u001b[4m2\u001b[24m110       -\u001b[31m20\u001b[39m     \u001b[4m2\u001b[24m310           \u001b[4m2\u001b[24m355\n",
      "\u001b[38;5;246m# ... with 11 more variables: arr_delay <dbl>, carrier <chr>, flight <int>,\u001b[39m\n",
      "\u001b[38;5;246m#   tailnum <chr>, origin <chr>, dest <chr>, air_time <dbl>, distance <dbl>,\u001b[39m\n",
      "\u001b[38;5;246m#   hour <dbl>, minute <dbl>, time_hour <dttm>\u001b[39m\n",
      "[1] \"_____________________________________________________________________________________\"\n",
      "\u001b[38;5;246m# A tibble: 6 x 19\u001b[39m\n",
      "   year month   day dep_time sched_dep_time dep_delay arr_time sched_arr_time\n",
      "  \u001b[3m\u001b[38;5;246m<int>\u001b[39m\u001b[23m \u001b[3m\u001b[38;5;246m<int>\u001b[39m\u001b[23m \u001b[3m\u001b[38;5;246m<int>\u001b[39m\u001b[23m    \u001b[3m\u001b[38;5;246m<int>\u001b[39m\u001b[23m          \u001b[3m\u001b[38;5;246m<int>\u001b[39m\u001b[23m     \u001b[3m\u001b[38;5;246m<dbl>\u001b[39m\u001b[23m    \u001b[3m\u001b[38;5;246m<int>\u001b[39m\u001b[23m          \u001b[3m\u001b[38;5;246m<int>\u001b[39m\u001b[23m\n",
      "\u001b[38;5;250m1\u001b[39m  \u001b[4m2\u001b[24m013     1     1     \u001b[4m2\u001b[24m353           \u001b[4m2\u001b[24m359        -\u001b[31m6\u001b[39m      425            445\n",
      "\u001b[38;5;250m2\u001b[39m  \u001b[4m2\u001b[24m013     1     1     \u001b[4m2\u001b[24m353           \u001b[4m2\u001b[24m359        -\u001b[31m6\u001b[39m      418            442\n",
      "\u001b[38;5;250m3\u001b[39m  \u001b[4m2\u001b[24m013     1     1     \u001b[4m2\u001b[24m356           \u001b[4m2\u001b[24m359        -\u001b[31m3\u001b[39m      425            437\n",
      "\u001b[38;5;250m4\u001b[39m  \u001b[4m2\u001b[24m013     1     2       42           \u001b[4m2\u001b[24m359        43      518            442\n",
      "\u001b[38;5;250m5\u001b[39m  \u001b[4m2\u001b[24m013     1     2     \u001b[4m2\u001b[24m351           \u001b[4m2\u001b[24m359        -\u001b[31m8\u001b[39m      427            445\n",
      "\u001b[38;5;250m6\u001b[39m  \u001b[4m2\u001b[24m013     1     2     \u001b[4m2\u001b[24m354           \u001b[4m2\u001b[24m359        -\u001b[31m5\u001b[39m      413            437\n",
      "\u001b[38;5;246m# ... with 11 more variables: arr_delay <dbl>, carrier <chr>, flight <int>,\u001b[39m\n",
      "\u001b[38;5;246m#   tailnum <chr>, origin <chr>, dest <chr>, air_time <dbl>, distance <dbl>,\u001b[39m\n",
      "\u001b[38;5;246m#   hour <dbl>, minute <dbl>, time_hour <dttm>\u001b[39m\n"
     ]
    }
   ],
   "source": [
    "%%R  ## Aranging the file\n",
    "print(head(arrange(nycflights, desc(month)))) # desc sort\n",
    "print(\"_____________________________________________________________________________________\")\n",
    "print(head(arrange(nycflights, month))) # asc sort\n",
    "print(\"_____________________________________________________________________________________\")\n",
    "print(head(arrange(nycflights, month, dep_delay)) )# Multi layer sort\n",
    "print(\"_____________________________________________________________________________________\")\n",
    "print(head(nycflights %>% arrange(desc(sched_dep_time), .by_group = TRUE)))"
   ]
  },
  {
   "cell_type": "code",
   "execution_count": null,
   "id": "42b49ab1",
   "metadata": {},
   "outputs": [],
   "source": [
    "%%R\n",
    "select()\n",
    "distinct()\n",
    "mutate()\n",
    "summarise()\n",
    "sample_n()"
   ]
  },
  {
   "cell_type": "code",
   "execution_count": null,
   "id": "31c26ce1",
   "metadata": {
    "code_folding": [],
    "scrolled": true
   },
   "outputs": [],
   "source": [
    "%%R\n"
   ]
  },
  {
   "cell_type": "code",
   "execution_count": 18,
   "id": "c427ed8a",
   "metadata": {},
   "outputs": [
    {
     "name": "stdout",
     "output_type": "stream",
     "text": [
      "   year  month  day  dep_time  sched_dep_time  dep_delay  arr_time  \\\n",
      "1  2013      1    1       517             515        2.0       830   \n",
      "2  2013      1    1       533             529        4.0       850   \n",
      "3  2013      1    1       542             540        2.0       923   \n",
      "4  2013      1    1       544             545       -1.0      1004   \n",
      "5  2013      1    1       554             600       -6.0       812   \n",
      "\n",
      "   sched_arr_time  arr_delay carrier  flight tailnum origin dest  air_time  \\\n",
      "1             819       11.0      UA    1545  N14228    EWR  IAH     227.0   \n",
      "2             830       20.0      UA    1714  N24211    LGA  IAH     227.0   \n",
      "3             850       33.0      AA    1141  N619AA    JFK  MIA     160.0   \n",
      "4            1022      -18.0      B6     725  N804JB    JFK  BQN     183.0   \n",
      "5             837      -25.0      DL     461  N668DN    LGA  ATL     116.0   \n",
      "\n",
      "   distance  hour  minute                 time_hour  \n",
      "1    1400.0   5.0    15.0 2013-01-01 05:00:00-05:00  \n",
      "2    1416.0   5.0    29.0 2013-01-01 05:00:00-05:00  \n",
      "3    1089.0   5.0    40.0 2013-01-01 05:00:00-05:00  \n",
      "4    1576.0   5.0    45.0 2013-01-01 05:00:00-05:00  \n",
      "5     762.0   6.0     0.0 2013-01-01 06:00:00-05:00  \n",
      "(336776, 19)\n"
     ]
    }
   ],
   "source": [
    "## Loading data set to python\n",
    "# %R -o nyc nyc = nycflights\n",
    "print(nyc.head())\n",
    "print(nyc.shape)"
   ]
  },
  {
   "cell_type": "code",
   "execution_count": null,
   "id": "f6fdda94",
   "metadata": {},
   "outputs": [],
   "source": [
    "## Aranging the file"
   ]
  },
  {
   "cell_type": "markdown",
   "id": "7d1faaa4-f943-4412-9c8f-23c25864778c",
   "metadata": {},
   "source": [
    "## Visualisation"
   ]
  },
  {
   "cell_type": "code",
   "execution_count": null,
   "id": "b00a05ee",
   "metadata": {
    "tags": []
   },
   "outputs": [],
   "source": []
  },
  {
   "cell_type": "code",
   "execution_count": null,
   "id": "ffed462a-b892-4938-88c4-5b3e21ce28c4",
   "metadata": {},
   "outputs": [],
   "source": []
  },
  {
   "cell_type": "code",
   "execution_count": null,
   "id": "e2049eae-aaa8-4e3b-a1a4-0693ade4b744",
   "metadata": {},
   "outputs": [],
   "source": []
  },
  {
   "cell_type": "code",
   "execution_count": null,
   "id": "4bc4c40d-d60b-434c-bfa5-f02b559bfca3",
   "metadata": {},
   "outputs": [],
   "source": []
  }
 ],
 "metadata": {
  "kernelspec": {
   "display_name": "Python 3 (ipykernel)",
   "language": "python",
   "name": "python3"
  },
  "language_info": {
   "codemirror_mode": {
    "name": "ipython",
    "version": 3
   },
   "file_extension": ".py",
   "mimetype": "text/x-python",
   "name": "python",
   "nbconvert_exporter": "python",
   "pygments_lexer": "ipython3",
   "version": "3.9.5"
  },
  "latex_envs": {
   "LaTeX_envs_menu_present": true,
   "autoclose": false,
   "autocomplete": true,
   "bibliofile": "biblio.bib",
   "cite_by": "apalike",
   "current_citInitial": 1,
   "eqLabelWithNumbers": true,
   "eqNumInitial": 1,
   "hotkeys": {
    "equation": "Ctrl-E",
    "itemize": "Ctrl-I"
   },
   "labels_anchors": false,
   "latex_user_defs": false,
   "report_style_numbering": false,
   "user_envs_cfg": false
  },
  "toc": {
   "base_numbering": 1,
   "nav_menu": {},
   "number_sections": true,
   "sideBar": true,
   "skip_h1_title": false,
   "title_cell": "Table of Contents",
   "title_sidebar": "Contents",
   "toc_cell": false,
   "toc_position": {},
   "toc_section_display": true,
   "toc_window_display": false
  },
  "toc-autonumbering": true,
  "toc-showmarkdowntxt": false,
  "varInspector": {
   "cols": {
    "lenName": 16,
    "lenType": 16,
    "lenVar": 40
   },
   "kernels_config": {
    "python": {
     "delete_cmd_postfix": "",
     "delete_cmd_prefix": "del ",
     "library": "var_list.py",
     "varRefreshCmd": "print(var_dic_list())"
    },
    "r": {
     "delete_cmd_postfix": ") ",
     "delete_cmd_prefix": "rm(",
     "library": "var_list.r",
     "varRefreshCmd": "cat(var_dic_list()) "
    }
   },
   "types_to_exclude": [
    "module",
    "function",
    "builtin_function_or_method",
    "instance",
    "_Feature"
   ],
   "window_display": false
  }
 },
 "nbformat": 4,
 "nbformat_minor": 5
}
