{
 "cells": [
  {
   "cell_type": "code",
   "execution_count": null,
   "metadata": {},
   "outputs": [],
   "source": [
    "#Create a Global Variable\n",
    "\n",
    "x = \"global\"\n",
    "\n",
    "def mhm():\n",
    "    print(\"x inside:\", x)\n",
    "\n",
    "\n",
    "mhm()\n",
    "print(\"x outside:\", x)"
   ]
  },
  {
   "cell_type": "code",
   "execution_count": null,
   "metadata": {},
   "outputs": [],
   "source": [
    "#Accessing local variable outside the scope\n",
    "\n",
    "def mhm():\n",
    "    y = \"local\"\n",
    "    print(y)\n",
    "\n",
    "\n",
    "mhm()\n",
    "#print(y)"
   ]
  },
  {
   "cell_type": "code",
   "execution_count": null,
   "metadata": {},
   "outputs": [],
   "source": [
    "#Create a Local Variable\n",
    "\n",
    "def mhm():\n",
    "    y = \"local\"\n",
    "    print(y)\n",
    "\n",
    "mhm()"
   ]
  },
  {
   "cell_type": "code",
   "execution_count": null,
   "metadata": {},
   "outputs": [],
   "source": [
    "#Global variable and Local variable with same name\n",
    "x = 5\n",
    "\n",
    "def mhm():\n",
    "    print(\"local x:\", x)\n",
    "\n",
    "\n",
    "mhm()\n",
    "print(\"global x:\", x)"
   ]
  }
 ],
 "metadata": {
  "kernelspec": {
   "display_name": "Python 3",
   "language": "python",
   "name": "python3"
  },
  "language_info": {
   "codemirror_mode": {
    "name": "ipython",
    "version": 3
   },
   "file_extension": ".py",
   "mimetype": "text/x-python",
   "name": "python",
   "nbconvert_exporter": "python",
   "pygments_lexer": "ipython3",
   "version": "3.8.3"
  }
 },
 "nbformat": 4,
 "nbformat_minor": 4
}
