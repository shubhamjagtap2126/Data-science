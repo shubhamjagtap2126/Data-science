{
 "cells": [
  {
   "cell_type": "code",
   "execution_count": null,
   "metadata": {
    "colab": {},
    "colab_type": "code",
    "id": "UBW_Ksf5wW7D"
   },
   "outputs": [],
   "source": [
    "a=4"
   ]
  },
  {
   "cell_type": "code",
   "execution_count": null,
   "metadata": {
    "colab": {
     "base_uri": "https://localhost:8080/",
     "height": 34
    },
    "colab_type": "code",
    "id": "hTkF01HuyfKv",
    "outputId": "b67ce8f2-51f8-45dc-ec83-85d2dfe4a248"
   },
   "outputs": [],
   "source": [
    "type(a)"
   ]
  },
  {
   "cell_type": "code",
   "execution_count": null,
   "metadata": {
    "colab": {
     "base_uri": "https://localhost:8080/",
     "height": 34
    },
    "colab_type": "code",
    "id": "4WcvnbEZyfiU",
    "outputId": "e73907f6-af07-477c-9e34-490385addd7f"
   },
   "outputs": [],
   "source": [
    "b= 5.6\n",
    "type(b)"
   ]
  },
  {
   "cell_type": "code",
   "execution_count": null,
   "metadata": {
    "colab": {
     "base_uri": "https://localhost:8080/",
     "height": 34
    },
    "colab_type": "code",
    "id": "Kl4FNwdOyf5-",
    "outputId": "b85c74f6-a4f0-4f89-9246-201362c854d7"
   },
   "outputs": [],
   "source": [
    "x='M'\n",
    "type(x)"
   ]
  },
  {
   "cell_type": "code",
   "execution_count": null,
   "metadata": {
    "colab": {
     "base_uri": "https://localhost:8080/",
     "height": 34
    },
    "colab_type": "code",
    "id": "DkURMhJDygUf",
    "outputId": "8e24c3dc-2017-4481-af69-de56184d9896"
   },
   "outputs": [],
   "source": [
    "x='MHM'\n",
    "type(x)"
   ]
  },
  {
   "cell_type": "code",
   "execution_count": null,
   "metadata": {
    "colab": {
     "base_uri": "https://localhost:8080/",
     "height": 34
    },
    "colab_type": "code",
    "id": "cvP5joLoyguy",
    "outputId": "fb4c6e6c-fdcc-4b7e-d345-4268e62ce126"
   },
   "outputs": [],
   "source": [
    "a=4\n",
    "b=7.3\n",
    "c=a*b\n",
    "type(c)"
   ]
  },
  {
   "cell_type": "code",
   "execution_count": null,
   "metadata": {
    "colab": {
     "base_uri": "https://localhost:8080/",
     "height": 34
    },
    "colab_type": "code",
    "id": "5ILUctl6yhMr",
    "outputId": "317c2d0d-3b77-404e-cf8f-47eae8413b56"
   },
   "outputs": [],
   "source": [
    "a=5.6\n",
    "int(a)"
   ]
  },
  {
   "cell_type": "code",
   "execution_count": null,
   "metadata": {
    "colab": {
     "base_uri": "https://localhost:8080/",
     "height": 34
    },
    "colab_type": "code",
    "id": "N0w9puZkyhpU",
    "outputId": "995c3d82-2a54-4787-b113-e45249477230"
   },
   "outputs": [],
   "source": [
    "b=4\n",
    "float(b)"
   ]
  },
  {
   "cell_type": "code",
   "execution_count": null,
   "metadata": {
    "colab": {
     "base_uri": "https://localhost:8080/",
     "height": 34
    },
    "colab_type": "code",
    "id": "8YL9TfVUdWf0",
    "outputId": "43f1e10a-085c-449b-c6fd-00e648acb936"
   },
   "outputs": [],
   "source": [
    "a='MHM'\n",
    "list(a)"
   ]
  },
  {
   "cell_type": "code",
   "execution_count": null,
   "metadata": {
    "colab": {
     "base_uri": "https://localhost:8080/",
     "height": 34
    },
    "colab_type": "code",
    "id": "dUJozI-dvs0P",
    "outputId": "36ee7ac0-071f-4f6d-84d6-634d41913d98"
   },
   "outputs": [],
   "source": [
    "tuple(a)"
   ]
  },
  {
   "cell_type": "code",
   "execution_count": null,
   "metadata": {
    "colab": {
     "base_uri": "https://localhost:8080/",
     "height": 34
    },
    "colab_type": "code",
    "id": "8tVru7k8v2pR",
    "outputId": "48f750f6-5d58-480a-ad86-102dfceaace6"
   },
   "outputs": [],
   "source": [
    "set(a)"
   ]
  },
  {
   "cell_type": "code",
   "execution_count": null,
   "metadata": {
    "colab": {},
    "colab_type": "code",
    "id": "thgHs25gxsjb"
   },
   "outputs": [],
   "source": [
    "a=[1,2,3,4,5]"
   ]
  },
  {
   "cell_type": "code",
   "execution_count": null,
   "metadata": {
    "colab": {
     "base_uri": "https://localhost:8080/",
     "height": 34
    },
    "colab_type": "code",
    "id": "ztvjoOBuxxyO",
    "outputId": "d73c3a22-2051-48e8-895b-116768ba2e51"
   },
   "outputs": [],
   "source": [
    "tuple(a)"
   ]
  },
  {
   "cell_type": "code",
   "execution_count": null,
   "metadata": {
    "colab": {},
    "colab_type": "code",
    "id": "Fzf5qzsuyEMj"
   },
   "outputs": [],
   "source": [
    "a=(1,2,3,4,5)\n",
    "a"
   ]
  },
  {
   "cell_type": "code",
   "execution_count": null,
   "metadata": {
    "colab": {
     "base_uri": "https://localhost:8080/",
     "height": 34
    },
    "colab_type": "code",
    "id": "31IxVkBayEs4",
    "outputId": "b8d0cc85-10dc-4047-eccf-2d7512f58ee5"
   },
   "outputs": [],
   "source": [
    "list(a)"
   ]
  },
  {
   "cell_type": "code",
   "execution_count": null,
   "metadata": {
    "colab": {
     "base_uri": "https://localhost:8080/",
     "height": 34
    },
    "colab_type": "code",
    "id": "-aGbonAHyUQi",
    "outputId": "e11867d3-e000-4ede-b764-3d9a36b86cbc"
   },
   "outputs": [],
   "source": [
    "set(a)"
   ]
  },
  {
   "cell_type": "code",
   "execution_count": null,
   "metadata": {
    "colab": {
     "base_uri": "https://localhost:8080/",
     "height": 34
    },
    "colab_type": "code",
    "id": "ExIEEEHuxDWH",
    "outputId": "6ea64ba5-efbe-4d5d-db93-bef3d8094119"
   },
   "outputs": [],
   "source": [
    "chr(66)"
   ]
  },
  {
   "cell_type": "code",
   "execution_count": null,
   "metadata": {
    "colab": {
     "base_uri": "https://localhost:8080/",
     "height": 34
    },
    "colab_type": "code",
    "id": "gJMidLxyxDt0",
    "outputId": "fac1c68d-eea4-43ff-ba65-3f217058c6bd"
   },
   "outputs": [],
   "source": [
    "chr(90)"
   ]
  },
  {
   "cell_type": "code",
   "execution_count": null,
   "metadata": {
    "colab": {
     "base_uri": "https://localhost:8080/",
     "height": 34
    },
    "colab_type": "code",
    "id": "Qziv9OtVxEGL",
    "outputId": "094699d3-82bb-49fd-ee5c-7d4361fa56df"
   },
   "outputs": [],
   "source": [
    "chr(97)"
   ]
  },
  {
   "cell_type": "code",
   "execution_count": null,
   "metadata": {
    "colab": {
     "base_uri": "https://localhost:8080/",
     "height": 34
    },
    "colab_type": "code",
    "id": "BIiL5JlVxWKz",
    "outputId": "e31c01ef-a4fb-494c-bd0c-8bc12ddf4f78"
   },
   "outputs": [],
   "source": [
    "chr(125)"
   ]
  },
  {
   "cell_type": "code",
   "execution_count": null,
   "metadata": {
    "colab": {
     "base_uri": "https://localhost:8080/",
     "height": 34
    },
    "colab_type": "code",
    "id": "j23X6v8KxWFY",
    "outputId": "bc4a4ad0-59a7-4e90-bbec-1bff79f2a7b6"
   },
   "outputs": [],
   "source": [
    "ord(' ')"
   ]
  },
  {
   "cell_type": "code",
   "execution_count": null,
   "metadata": {
    "colab": {
     "base_uri": "https://localhost:8080/",
     "height": 34
    },
    "colab_type": "code",
    "id": "9jgTGfwUxWAd",
    "outputId": "365d8513-9a7b-4a1f-cf03-80420119d5c8"
   },
   "outputs": [],
   "source": [
    "hex(14)"
   ]
  },
  {
   "cell_type": "code",
   "execution_count": null,
   "metadata": {
    "colab": {
     "base_uri": "https://localhost:8080/",
     "height": 34
    },
    "colab_type": "code",
    "id": "2xuyu2OdxV8e",
    "outputId": "c542f121-6f4f-430f-f21b-8b235fba895b"
   },
   "outputs": [],
   "source": [
    "oct(12)"
   ]
  },
  {
   "cell_type": "code",
   "execution_count": null,
   "metadata": {
    "colab": {
     "base_uri": "https://localhost:8080/",
     "height": 34
    },
    "colab_type": "code",
    "id": "n58-3vgwxV1Z",
    "outputId": "4215bcab-4085-4880-df53-205b19a6ca51"
   },
   "outputs": [],
   "source": [
    "bin(15)"
   ]
  }
 ],
 "metadata": {
  "colab": {
   "collapsed_sections": [],
   "name": "Datatypes and it's conversion.ipynb",
   "provenance": []
  },
  "kernelspec": {
   "display_name": "Python 3",
   "language": "python",
   "name": "python3"
  },
  "language_info": {
   "codemirror_mode": {
    "name": "ipython",
    "version": 3
   },
   "file_extension": ".py",
   "mimetype": "text/x-python",
   "name": "python",
   "nbconvert_exporter": "python",
   "pygments_lexer": "ipython3",
   "version": "3.8.3"
  }
 },
 "nbformat": 4,
 "nbformat_minor": 1
}
