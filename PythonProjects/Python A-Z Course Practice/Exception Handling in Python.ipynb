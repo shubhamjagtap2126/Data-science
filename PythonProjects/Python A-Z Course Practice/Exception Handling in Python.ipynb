{
 "cells": [
  {
   "attachments": {},
   "cell_type": "markdown",
   "metadata": {},
   "source": [
    "# Different exceptions are raised for different reasons\n",
    "Common exceptions:\n",
    "1. ImportError: an import fails\n",
    "2. IndexError: a list is indexed with an out-of-range number\n",
    "3. NameError: an unknown variable is used\n",
    "4. SyntaxError: the code can't be parsed properly\n",
    "5. TypeError: a function is called on a value of an inappropriate type\n",
    "6. ValueError: a function is called on a value of the correct type, but with an inappropriate value"
   ]
  },
  {
   "cell_type": "code",
   "execution_count": null,
   "metadata": {},
   "outputs": [
    {
     "name": "stdout",
     "output_type": "stream",
     "text": [
      "num\n"
     ]
    }
   ],
   "source": [
    "print('num')\n",
    "num=input()\n",
    "print('den')\n",
    "den=input()\n",
    "res= int(num)/int(den)\n",
    "print(res)"
   ]
  },
  {
   "cell_type": "markdown",
   "metadata": {},
   "source": [
    "1. To handle exceptions, and to call code when an exception occurs, \n",
    "you can use a try/except statement.\n",
    "\n",
    "2. The try block contains code that might throw an exception. \n",
    "\n",
    "3. If that exception occurs, the code in the try block stops being executed, and the code in the except block is run. \n",
    "\n",
    "4. If no error occurs, the code in the except block doesn't run.\n"
   ]
  },
  {
   "cell_type": "code",
   "execution_count": null,
   "metadata": {},
   "outputs": [],
   "source": [
    "print('num')\n",
    "num=input()\n",
    "print('den')\n",
    "den=input()\n",
    "try:\n",
    "    res= int(num)/int(den)\n",
    "except:\n",
    "    print(‘den cannot be 0’)\n",
    "else:\n",
    "    print(res)"
   ]
  }
 ],
 "metadata": {
  "kernelspec": {
   "display_name": "Python 3",
   "language": "python",
   "name": "python3"
  },
  "language_info": {
   "codemirror_mode": {
    "name": "ipython",
    "version": 3
   },
   "file_extension": ".py",
   "mimetype": "text/x-python",
   "name": "python",
   "nbconvert_exporter": "python",
   "pygments_lexer": "ipython3",
   "version": "3.8.3"
  }
 },
 "nbformat": 4,
 "nbformat_minor": 4
}
