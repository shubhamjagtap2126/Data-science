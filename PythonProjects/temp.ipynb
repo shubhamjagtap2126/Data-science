print("Hello World")

print("Shubham Jagtap")

# Import the libraries
import numpy as np
import matplotlib.pyplot as plt
import pandas as pd



pd.
