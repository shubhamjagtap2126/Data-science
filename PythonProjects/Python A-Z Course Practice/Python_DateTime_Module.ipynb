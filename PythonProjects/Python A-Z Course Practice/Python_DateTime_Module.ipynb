{
 "cells": [
  {
   "cell_type": "code",
   "execution_count": null,
   "metadata": {
    "colab": {},
    "colab_type": "code",
    "id": "AXHHrxqkm8zn"
   },
   "outputs": [],
   "source": [
    "#DateTime Module"
   ]
  },
  {
   "cell_type": "code",
   "execution_count": 1,
   "metadata": {
    "colab": {
     "base_uri": "https://localhost:8080/",
     "height": 34
    },
    "colab_type": "code",
    "id": "pJDCw1-XnKvt",
    "outputId": "7961739a-9d39-4add-ece1-568f06a49291"
   },
   "outputs": [
    {
     "data": {
      "text/plain": [
       "datetime.date(2020, 8, 5)"
      ]
     },
     "execution_count": 1,
     "metadata": {
      "tags": []
     },
     "output_type": "execute_result"
    }
   ],
   "source": [
    "import datetime\n",
    "#Used to reprsent current date.\n",
    "datetime.date.today() "
   ]
  },
  {
   "cell_type": "code",
   "execution_count": 3,
   "metadata": {
    "colab": {
     "base_uri": "https://localhost:8080/",
     "height": 51
    },
    "colab_type": "code",
    "id": "2goICEPmnf07",
    "outputId": "fb235fcd-2d6a-47a1-b92c-f77d354266a6"
   },
   "outputs": [
    {
     "name": "stdout",
     "output_type": "stream",
     "text": [
      "2020\n",
      "6\n"
     ]
    }
   ],
   "source": [
    "import datetime\n",
    "d = datetime.date(2020, 8, 6)\n",
    "print(d.year) \n",
    "print(d.day)"
   ]
  },
  {
   "cell_type": "code",
   "execution_count": 4,
   "metadata": {
    "colab": {
     "base_uri": "https://localhost:8080/",
     "height": 85
    },
    "colab_type": "code",
    "id": "FStSAVUToWnb",
    "outputId": "ecc978fd-a0f2-4329-8972-472e0775cc2c"
   },
   "outputs": [
    {
     "name": "stdout",
     "output_type": "stream",
     "text": [
      "8\n",
      "6\n",
      "12\n",
      "40\n"
     ]
    }
   ],
   "source": [
    "import datetime\n",
    "a = datetime.datetime(2020, 8, 6, 12, 12, 40)\n",
    "print(a.month)\n",
    "print(a.day)\n",
    "print(a.minute)\n",
    "print(a.second)"
   ]
  },
  {
   "cell_type": "code",
   "execution_count": 5,
   "metadata": {
    "colab": {
     "base_uri": "https://localhost:8080/",
     "height": 34
    },
    "colab_type": "code",
    "id": "zjmn6zLIpsJi",
    "outputId": "13506cd8-5200-40fa-9901-351ef8a40590"
   },
   "outputs": [
    {
     "data": {
      "text/plain": [
       "datetime.datetime(2020, 8, 5, 17, 24, 59, 773370)"
      ]
     },
     "execution_count": 5,
     "metadata": {
      "tags": []
     },
     "output_type": "execute_result"
    }
   ],
   "source": [
    "import datetime\n",
    "#Used to represent Current Date and Time.\n",
    "datetime.datetime.now()"
   ]
  },
  {
   "cell_type": "code",
   "execution_count": 7,
   "metadata": {
    "colab": {
     "base_uri": "https://localhost:8080/",
     "height": 35
    },
    "colab_type": "code",
    "id": "1-fIxzJwqCtW",
    "outputId": "5d2e8cec-e777-4556-8c99-91c05b8954be"
   },
   "outputs": [
    {
     "data": {
      "application/vnd.google.colaboratory.intrinsic+json": {
       "type": "string"
      },
      "text/plain": [
       "'2020-08-05-17:30:09'"
      ]
     },
     "execution_count": 7,
     "metadata": {
      "tags": []
     },
     "output_type": "execute_result"
    }
   ],
   "source": [
    "today = datetime.datetime.today()\n",
    "today.strftime(\"%m/%d/%Y\")\n",
    "today.strftime(\"%Y-%m-%d-%H:%M:%S\")"
   ]
  },
  {
   "cell_type": "code",
   "execution_count": 15,
   "metadata": {
    "colab": {
     "base_uri": "https://localhost:8080/",
     "height": 85
    },
    "colab_type": "code",
    "id": "dHCjwedQtHTu",
    "outputId": "dcf8ffe3-ddb9-4743-e0e9-9f4b17466301"
   },
   "outputs": [
    {
     "name": "stdout",
     "output_type": "stream",
     "text": [
      "2020-08-05 17:47:25.322301\n",
      "2000-05-09 00:00:00\n",
      "7393\n",
      "64045\n"
     ]
    }
   ],
   "source": [
    "a = datetime.datetime.now()\n",
    "print(a)\n",
    "b = datetime.datetime(2000, 5, 9)\n",
    "print(b)\n",
    "total = a-b\n",
    "print(total.days)\n",
    "\n",
    "print(total.seconds)"
   ]
  },
  {
   "cell_type": "code",
   "execution_count": 16,
   "metadata": {
    "colab": {
     "base_uri": "https://localhost:8080/",
     "height": 51
    },
    "colab_type": "code",
    "id": "uqDmvkI7vDgO",
    "outputId": "1472dac5-dc74-4727-d732-3b7db5c3a580"
   },
   "outputs": [
    {
     "name": "stdout",
     "output_type": "stream",
     "text": [
      "638819245.322301\n",
      "2845.322301030159\n"
     ]
    }
   ],
   "source": [
    "seconds = total.total_seconds()\n",
    "hours = seconds\n",
    "print(hours)\n",
    "minutes = (seconds % 3600)\n",
    "print(minutes)\n"
   ]
  },
  {
   "cell_type": "code",
   "execution_count": 17,
   "metadata": {
    "colab": {
     "base_uri": "https://localhost:8080/",
     "height": 35
    },
    "colab_type": "code",
    "id": "Vip8mKXqwc45",
    "outputId": "86f186e5-8938-44cf-9116-2ebdd26654d9"
   },
   "outputs": [
    {
     "data": {
      "application/vnd.google.colaboratory.intrinsic+json": {
       "type": "string"
      },
      "text/plain": [
       "'Wed Aug  5 17:54:14 2020'"
      ]
     },
     "execution_count": 17,
     "metadata": {
      "tags": []
     },
     "output_type": "execute_result"
    }
   ],
   "source": [
    "import time\n",
    "time.ctime()"
   ]
  },
  {
   "cell_type": "code",
   "execution_count": 19,
   "metadata": {
    "colab": {
     "base_uri": "https://localhost:8080/",
     "height": 51
    },
    "colab_type": "code",
    "id": "FmBgCAfawrVf",
    "outputId": "ab4d7a3c-625a-4fb9-ad6f-2d9ade172124"
   },
   "outputs": [
    {
     "name": "stdout",
     "output_type": "stream",
     "text": [
      "Slept for 5 seconds\n",
      "Slept for 5 seconds\n"
     ]
    }
   ],
   "source": [
    "import time\n",
    "\n",
    "for x in range(2):\n",
    "    time.sleep(5)\n",
    "    print(\"Slept for 5 seconds\")"
   ]
  },
  {
   "cell_type": "code",
   "execution_count": 20,
   "metadata": {
    "colab": {
     "base_uri": "https://localhost:8080/",
     "height": 35
    },
    "colab_type": "code",
    "id": "61q8_HTUxN9P",
    "outputId": "1e1a5463-7068-42fd-eaa0-591e5f20063f"
   },
   "outputs": [
    {
     "data": {
      "application/vnd.google.colaboratory.intrinsic+json": {
       "type": "string"
      },
      "text/plain": [
       "'2020-08-05-17.58.01'"
      ]
     },
     "execution_count": 20,
     "metadata": {
      "tags": []
     },
     "output_type": "execute_result"
    }
   ],
   "source": [
    "time.strftime(\"%Y-%m-%d-%H.%M.%S\",\n",
    "                  time.localtime())"
   ]
  }
 ],
 "metadata": {
  "colab": {
   "name": "Python DateTime Module.ipynb",
   "provenance": []
  },
  "kernelspec": {
   "display_name": "Python 3",
   "language": "python",
   "name": "python3"
  },
  "language_info": {
   "codemirror_mode": {
    "name": "ipython",
    "version": 3
   },
   "file_extension": ".py",
   "mimetype": "text/x-python",
   "name": "python",
   "nbconvert_exporter": "python",
   "pygments_lexer": "ipython3",
   "version": "3.8.5"
  }
 },
 "nbformat": 4,
 "nbformat_minor": 1
}
