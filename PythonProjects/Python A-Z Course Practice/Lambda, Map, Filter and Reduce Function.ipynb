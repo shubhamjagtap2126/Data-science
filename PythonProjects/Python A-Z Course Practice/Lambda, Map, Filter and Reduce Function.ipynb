{
 "cells": [
  {
   "cell_type": "markdown",
   "metadata": {},
   "source": [
    "#A lambda function is a small anonymous function. A lambda function can take any number of arguments, but can only have one expression.\n",
    "\n",
    "#Map, Filter, and Reduce are paradigms of functional programming. \n",
    "\n",
    "They allow the programmer (you) to write simpler, shorter code, without neccessarily needing to bother about intricacies like loops and branching."
   ]
  },
  {
   "cell_type": "code",
   "execution_count": null,
   "metadata": {
    "colab": {
     "base_uri": "https://localhost:8080/",
     "height": 34
    },
    "colab_type": "code",
    "id": "kN-K3m56eoUo",
    "outputId": "2f258e83-b25b-4b98-f598-0259c8597510"
   },
   "outputs": [],
   "source": [
    "def my_func(num):\n",
    "    return num*2\n",
    "    \n",
    "seq=[2,3,4,5,6,7]\n",
    "map(my_func,seq)\n",
    "a= list(map(my_func,seq))\n",
    "print(a)"
   ]
  },
  {
   "cell_type": "code",
   "execution_count": null,
   "metadata": {
    "colab": {
     "base_uri": "https://localhost:8080/",
     "height": 34
    },
    "colab_type": "code",
    "id": "f5_qQe8KiJ_l",
    "outputId": "efb10032-805c-4c1a-e97c-7dc12f96aeb7"
   },
   "outputs": [],
   "source": [
    "a=lambda num: num*2\n",
    "seq=[2,3,4,5,6,7]\n",
    "a= list(map(a,seq))\n",
    "print(a)"
   ]
  },
  {
   "cell_type": "code",
   "execution_count": null,
   "metadata": {
    "colab": {
     "base_uri": "https://localhost:8080/",
     "height": 34
    },
    "colab_type": "code",
    "id": "qH5gwRZ5iJxV",
    "outputId": "e64c2a33-9b74-4639-fc5e-068f98bbeb1a"
   },
   "outputs": [],
   "source": [
    "seq=[2,3,4,5,6,7]\n",
    "a= list(map(lambda num: num*2,seq))\n",
    "print(a)"
   ]
  },
  {
   "cell_type": "code",
   "execution_count": null,
   "metadata": {
    "colab": {
     "base_uri": "https://localhost:8080/",
     "height": 52
    },
    "colab_type": "code",
    "id": "J3fUGGAXiqCb",
    "outputId": "68835938-feb2-4352-a53b-854aa80c3996"
   },
   "outputs": [],
   "source": [
    "nums = [34, 1, 0, -23]\n",
    "print(\"Original numbers in the list: \",nums)\n",
    "new_nums = list(filter(lambda x: x >0, nums))\n",
    "print(\"Positive numbers in the list: \",new_nums)"
   ]
  },
  {
   "cell_type": "code",
   "execution_count": null,
   "metadata": {
    "colab": {
     "base_uri": "https://localhost:8080/",
     "height": 34
    },
    "colab_type": "code",
    "id": "J-cKjJVmip9X",
    "outputId": "4e2e6bc2-51d6-4e64-e2e7-f6f3f6ead8d6"
   },
   "outputs": [],
   "source": [
    "num_list = [45, 55, 60, 37, 100, 105, 220]\n",
    "# use anonymous function to filter\n",
    "result = list(filter(lambda x: (x % 15 == 0), num_list))\n",
    "print(\"Numbers divisible by 15 are\",result)\n"
   ]
  },
  {
   "cell_type": "code",
   "execution_count": null,
   "metadata": {
    "colab": {
     "base_uri": "https://localhost:8080/",
     "height": 34
    },
    "colab_type": "code",
    "id": "_jW1SJ9Lip39",
    "outputId": "e6f93b7d-f508-4feb-bdeb-21725b1447f5"
   },
   "outputs": [],
   "source": [
    "a=lambda num: num%2 ==0\n",
    "seq=[2,3,4,5,6,7]\n",
    "a= list(filter(a,seq))\n",
    "print(a)"
   ]
  },
  {
   "cell_type": "code",
   "execution_count": null,
   "metadata": {
    "colab": {
     "base_uri": "https://localhost:8080/",
     "height": 34
    },
    "colab_type": "code",
    "id": "U0EZAC77ipwr",
    "outputId": "bed30333-b066-4fb3-8bd3-4aa7c97e8e0c"
   },
   "outputs": [],
   "source": [
    "seq=[2,3,4,5,6,7]\n",
    "a= list(filter(lambda num: num%2 ==0,seq))\n",
    "print(a)"
   ]
  },
  {
   "cell_type": "code",
   "execution_count": null,
   "metadata": {},
   "outputs": [],
   "source": [
    "from functools import reduce\n",
    "reduce(lambda x, y: x*y, range(1,101))"
   ]
  },
  {
   "cell_type": "code",
   "execution_count": null,
   "metadata": {},
   "outputs": [],
   "source": []
  }
 ],
 "metadata": {
  "colab": {
   "name": "Map_fiilter_Lambda.ipynb",
   "provenance": []
  },
  "kernelspec": {
   "display_name": "Python 3",
   "language": "python",
   "name": "python3"
  },
  "language_info": {
   "codemirror_mode": {
    "name": "ipython",
    "version": 3
   },
   "file_extension": ".py",
   "mimetype": "text/x-python",
   "name": "python",
   "nbconvert_exporter": "python",
   "pygments_lexer": "ipython3",
   "version": "3.8.3"
  }
 },
 "nbformat": 4,
 "nbformat_minor": 1
}
