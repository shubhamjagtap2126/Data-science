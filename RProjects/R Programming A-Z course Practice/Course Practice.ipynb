{
 "cells": [
  {
   "cell_type": "code",
   "execution_count": null,
   "id": "e1ba5080",
   "metadata": {},
   "outputs": [],
   "source": []
  },
  {
   "cell_type": "code",
   "execution_count": null,
   "id": "ee266148",
   "metadata": {},
   "outputs": [],
   "source": [
    "c(1:9)"
   ]
  },
  {
   "cell_type": "code",
   "execution_count": null,
   "id": "297d1f20",
   "metadata": {},
   "outputs": [],
   "source": [
    "#Data\n",
    "Rev <- c(14574.49, 7606.46, 8611.41, 9175.41, 8058.65, 8105.44, 11496.28, 9766.09, 10305.32, 14379.96, 10713.97, 15433.50)\n",
    "Exp <- c(12051.82, 5695.07, 12319.20, 12089.72, 8658.57, 840.20, 3285.73, 5821.12, 6976.93, 16618.61, 10054.37, 3803.96)"
   ]
  },
  {
   "cell_type": "code",
   "execution_count": null,
   "id": "cf802c7d",
   "metadata": {},
   "outputs": [],
   "source": [
    "print(Rev)"
   ]
  }
 ],
 "metadata": {
  "kernelspec": {
   "display_name": "R",
   "language": "R",
   "name": "ir"
  }
 },
 "nbformat": 4,
 "nbformat_minor": 5
}
