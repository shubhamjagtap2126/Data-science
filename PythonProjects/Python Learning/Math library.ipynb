{
 "cells": [
  {
   "cell_type": "markdown",
   "metadata": {
    "colab_type": "text",
    "id": "yyqaMVK6bRmy"
   },
   "source": [
    "mhmeducations.com"
   ]
  },
  {
   "cell_type": "code",
   "execution_count": null,
   "metadata": {
    "colab": {},
    "colab_type": "code",
    "id": "BmPoFhODilCj"
   },
   "outputs": [],
   "source": [
    "import math"
   ]
  },
  {
   "cell_type": "code",
   "execution_count": null,
   "metadata": {
    "colab": {
     "base_uri": "https://localhost:8080/",
     "height": 34
    },
    "colab_type": "code",
    "id": "LbI24rZembt0",
    "outputId": "ec848759-4e70-4a72-e021-c3b383f2e4c0"
   },
   "outputs": [],
   "source": [
    "abs(5)"
   ]
  },
  {
   "cell_type": "code",
   "execution_count": null,
   "metadata": {
    "colab": {
     "base_uri": "https://localhost:8080/",
     "height": 34
    },
    "colab_type": "code",
    "id": "SzwTUYiwneBU",
    "outputId": "3172c4d6-6807-4196-ce9f-4d7a8c26b894"
   },
   "outputs": [],
   "source": [
    "abs(-5)"
   ]
  },
  {
   "cell_type": "code",
   "execution_count": null,
   "metadata": {
    "colab": {
     "base_uri": "https://localhost:8080/",
     "height": 34
    },
    "colab_type": "code",
    "id": "7NSFB1Lll_Tb",
    "outputId": "9eaabf46-4158-4677-865c-b44260406af3"
   },
   "outputs": [],
   "source": [
    "math.ceil(35.74)"
   ]
  },
  {
   "cell_type": "code",
   "execution_count": null,
   "metadata": {
    "colab": {
     "base_uri": "https://localhost:8080/",
     "height": 34
    },
    "colab_type": "code",
    "id": "EL_9OpoxnhmN",
    "outputId": "944ae80e-e56e-48f3-c286-be4ec8db5e24"
   },
   "outputs": [],
   "source": [
    "math.ceil(-35.74)"
   ]
  },
  {
   "cell_type": "code",
   "execution_count": null,
   "metadata": {
    "colab": {
     "base_uri": "https://localhost:8080/",
     "height": 34
    },
    "colab_type": "code",
    "id": "J5o2QQMvniIT",
    "outputId": "1642c670-d564-413d-fd10-5b883b6b0555"
   },
   "outputs": [],
   "source": [
    "math.floor(16.94)"
   ]
  },
  {
   "cell_type": "code",
   "execution_count": null,
   "metadata": {
    "colab": {
     "base_uri": "https://localhost:8080/",
     "height": 34
    },
    "colab_type": "code",
    "id": "dSLSiCyXnige",
    "outputId": "b014812a-2ede-4f83-ae64-873a23486831"
   },
   "outputs": [],
   "source": [
    "math.floor(-16.94)"
   ]
  },
  {
   "cell_type": "code",
   "execution_count": null,
   "metadata": {
    "colab": {
     "base_uri": "https://localhost:8080/",
     "height": 34
    },
    "colab_type": "code",
    "id": "HtHzuT93mBpN",
    "outputId": "bec96698-3409-4a34-853b-ec23b3c8a42e"
   },
   "outputs": [],
   "source": [
    "math.e"
   ]
  },
  {
   "cell_type": "code",
   "execution_count": null,
   "metadata": {
    "colab": {
     "base_uri": "https://localhost:8080/",
     "height": 34
    },
    "colab_type": "code",
    "id": "LOg7iwAfnq35",
    "outputId": "d1b5a441-3997-479f-ee93-5111aae77b3c"
   },
   "outputs": [],
   "source": [
    "math.exp(7)"
   ]
  },
  {
   "cell_type": "code",
   "execution_count": null,
   "metadata": {
    "colab": {
     "base_uri": "https://localhost:8080/",
     "height": 34
    },
    "colab_type": "code",
    "id": "Ff9GbcGNnrOk",
    "outputId": "a3120fa0-d356-4379-a980-9a86836620b3"
   },
   "outputs": [],
   "source": [
    "math.sqrt(25)"
   ]
  },
  {
   "cell_type": "code",
   "execution_count": null,
   "metadata": {
    "colab": {
     "base_uri": "https://localhost:8080/",
     "height": 34
    },
    "colab_type": "code",
    "id": "uhY1e9s7nrjz",
    "outputId": "bacc3e5c-a1df-41f9-ff88-44c116722272"
   },
   "outputs": [],
   "source": [
    "math.log(5)"
   ]
  },
  {
   "cell_type": "code",
   "execution_count": null,
   "metadata": {
    "colab": {
     "base_uri": "https://localhost:8080/",
     "height": 34
    },
    "colab_type": "code",
    "id": "ziXU4ZPJnr1m",
    "outputId": "4f70a388-00b5-4fb9-b37d-79a0750dab12"
   },
   "outputs": [],
   "source": [
    "math.log10(2)"
   ]
  },
  {
   "cell_type": "code",
   "execution_count": null,
   "metadata": {
    "colab": {
     "base_uri": "https://localhost:8080/",
     "height": 34
    },
    "colab_type": "code",
    "id": "-VTuMcjKmE81",
    "outputId": "325e2e88-7e8a-4c92-d788-b3dcbb369b90"
   },
   "outputs": [],
   "source": [
    "max(3,5,7,1,10)"
   ]
  },
  {
   "cell_type": "code",
   "execution_count": null,
   "metadata": {
    "colab": {
     "base_uri": "https://localhost:8080/",
     "height": 34
    },
    "colab_type": "code",
    "id": "_HmvjPvZn0zt",
    "outputId": "815b8415-cc28-48cd-e871-403b6d9a7042"
   },
   "outputs": [],
   "source": [
    "min(4,7,56,1,-9)"
   ]
  },
  {
   "cell_type": "code",
   "execution_count": null,
   "metadata": {
    "colab": {
     "base_uri": "https://localhost:8080/",
     "height": 34
    },
    "colab_type": "code",
    "id": "g9QWAzTyn1Le",
    "outputId": "d289a871-0795-4a1c-9b98-c2f6a3ff593d"
   },
   "outputs": [],
   "source": [
    "round(17.4646,2)"
   ]
  },
  {
   "cell_type": "code",
   "execution_count": null,
   "metadata": {
    "colab": {
     "base_uri": "https://localhost:8080/",
     "height": 34
    },
    "colab_type": "code",
    "id": "PszQ2b0ymKIJ",
    "outputId": "786198c0-32d0-4636-b2fa-d1621deebcf2"
   },
   "outputs": [],
   "source": [
    "math.modf(11.971)"
   ]
  },
  {
   "cell_type": "code",
   "execution_count": null,
   "metadata": {
    "colab": {
     "base_uri": "https://localhost:8080/",
     "height": 34
    },
    "colab_type": "code",
    "id": "4FrgJ1ijmWuT",
    "outputId": "387f6f8a-8c05-4594-b1cb-19877049804d"
   },
   "outputs": [],
   "source": [
    "math.pow(4,2)"
   ]
  },
  {
   "cell_type": "code",
   "execution_count": null,
   "metadata": {
    "colab": {
     "base_uri": "https://localhost:8080/",
     "height": 34
    },
    "colab_type": "code",
    "id": "NgCF7jPHn7Wr",
    "outputId": "1c6593e6-cacc-4228-b10b-48ea01ccf184"
   },
   "outputs": [],
   "source": [
    "math.hypot(3,4)"
   ]
  },
  {
   "cell_type": "code",
   "execution_count": null,
   "metadata": {
    "colab": {
     "base_uri": "https://localhost:8080/",
     "height": 34
    },
    "colab_type": "code",
    "id": "wTUfuT6nn7tn",
    "outputId": "f9c85c9a-d936-404b-9612-7bcb111ed51d"
   },
   "outputs": [],
   "source": [
    "math.pi"
   ]
  },
  {
   "cell_type": "code",
   "execution_count": null,
   "metadata": {
    "colab": {
     "base_uri": "https://localhost:8080/",
     "height": 34
    },
    "colab_type": "code",
    "id": "QjbgXjOzn8RN",
    "outputId": "32119bee-e058-4f99-f8b7-483848c0cfcc"
   },
   "outputs": [],
   "source": [
    "math.degrees(6)"
   ]
  },
  {
   "cell_type": "code",
   "execution_count": null,
   "metadata": {
    "colab": {
     "base_uri": "https://localhost:8080/",
     "height": 34
    },
    "colab_type": "code",
    "id": "6VZpKkFFn8lb",
    "outputId": "8c7d354b-16b8-4043-e7b2-ec8402010f24"
   },
   "outputs": [],
   "source": [
    "math.radians(343.77467707849394)"
   ]
  },
  {
   "cell_type": "code",
   "execution_count": null,
   "metadata": {},
   "outputs": [],
   "source": [
    "math.factorial(4)"
   ]
  }
 ],
 "metadata": {
  "colab": {
   "name": "math library.ipynb",
   "provenance": []
  },
  "kernelspec": {
   "display_name": "Python 3",
   "language": "python",
   "name": "python3"
  },
  "language_info": {
   "codemirror_mode": {
    "name": "ipython",
    "version": 3
   },
   "file_extension": ".py",
   "mimetype": "text/x-python",
   "name": "python",
   "nbconvert_exporter": "python",
   "pygments_lexer": "ipython3",
   "version": "3.8.3"
  }
 },
 "nbformat": 4,
 "nbformat_minor": 1
}
