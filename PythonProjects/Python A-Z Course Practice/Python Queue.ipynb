{
 "cells": [
  {
   "cell_type": "markdown",
   "metadata": {
    "colab_type": "text",
    "id": "UGuGS5-3bjf-"
   },
   "source": [
    "# A queue is a container that holds data. The data that is entered first will be removed first, and hence a queue is also called \"First in First Out\" (FIFO). The queue has two ends front and rear. The items are entered from the rear and removed from the front side."
   ]
  },
  {
   "cell_type": "code",
   "execution_count": null,
   "metadata": {
    "colab": {},
    "colab_type": "code",
    "id": "HKlwfiK-bioy"
   },
   "outputs": [],
   "source": [
    "import queue\n",
    "q1 = queue.Queue()"
   ]
  },
  {
   "cell_type": "code",
   "execution_count": null,
   "metadata": {
    "colab": {},
    "colab_type": "code",
    "id": "dKpUckOib5Zk"
   },
   "outputs": [],
   "source": [
    "q1.put(1)"
   ]
  },
  {
   "cell_type": "code",
   "execution_count": null,
   "metadata": {
    "colab": {
     "base_uri": "https://localhost:8080/",
     "height": 334
    },
    "colab_type": "code",
    "id": "ZehkImyZb5VP",
    "outputId": "a9fca8f8-2764-4b03-ea1e-c5059fa0f5be"
   },
   "outputs": [],
   "source": [
    "item1 = q1.get()\n",
    "item1"
   ]
  },
  {
   "cell_type": "code",
   "execution_count": null,
   "metadata": {
    "colab": {},
    "colab_type": "code",
    "id": "JLkXThqhb5QT"
   },
   "outputs": [],
   "source": [
    "for i in range(20):\n",
    "    q1.put(i)"
   ]
  },
  {
   "cell_type": "code",
   "execution_count": null,
   "metadata": {
    "colab": {
     "base_uri": "https://localhost:8080/",
     "height": 34
    },
    "colab_type": "code",
    "id": "f__H2Erub5L3",
    "outputId": "94de1dae-b391-4bd6-98f4-53bb8533b425"
   },
   "outputs": [],
   "source": [
    "item1 = q1.get()\n",
    "item1"
   ]
  },
  {
   "cell_type": "code",
   "execution_count": null,
   "metadata": {
    "colab": {
     "base_uri": "https://localhost:8080/",
     "height": 354
    },
    "colab_type": "code",
    "id": "PjB9--Y1b5HL",
    "outputId": "d093c113-ac3c-4672-c365-8fc142a05d20"
   },
   "outputs": [],
   "source": [
    "while not q1.empty():\n",
    "    print(\"The value is \", q1.get())"
   ]
  },
  {
   "cell_type": "code",
   "execution_count": null,
   "metadata": {
    "colab": {},
    "colab_type": "code",
    "id": "Vd0_YMYob5Bl"
   },
   "outputs": [],
   "source": [
    "q2 = queue.LifoQueue()"
   ]
  },
  {
   "cell_type": "code",
   "execution_count": null,
   "metadata": {
    "colab": {},
    "colab_type": "code",
    "id": "aZk5DCaud3Rx"
   },
   "outputs": [],
   "source": [
    "for i in range(20):\n",
    "    q2.put(i)"
   ]
  },
  {
   "cell_type": "code",
   "execution_count": null,
   "metadata": {
    "colab": {
     "base_uri": "https://localhost:8080/",
     "height": 34
    },
    "colab_type": "code",
    "id": "tTsXnlQzd3OC",
    "outputId": "8f95df71-ad94-4875-f86b-0b5d2ffe91fa"
   },
   "outputs": [],
   "source": [
    "item1 = q2.get()\n",
    "item1"
   ]
  },
  {
   "cell_type": "code",
   "execution_count": null,
   "metadata": {
    "colab": {
     "base_uri": "https://localhost:8080/",
     "height": 354
    },
    "colab_type": "code",
    "id": "_AFK330ld3I2",
    "outputId": "ec21ce0d-e6a8-4325-9b89-590b774a21cb"
   },
   "outputs": [],
   "source": [
    "while not q2.empty():\n",
    "    print(\"The value is \", q2.get())"
   ]
  },
  {
   "cell_type": "code",
   "execution_count": null,
   "metadata": {
    "colab": {},
    "colab_type": "code",
    "id": "QWIbZ0icd3EJ"
   },
   "outputs": [],
   "source": [
    "q3 = queue.Queue(5)"
   ]
  },
  {
   "cell_type": "code",
   "execution_count": null,
   "metadata": {
    "colab": {},
    "colab_type": "code",
    "id": "hE4Qf85Bd23a"
   },
   "outputs": [],
   "source": [
    "q3.put(1)\n",
    "q3.put(2)\n",
    "q3.put(3)\n",
    "q3.put(4)\n",
    "q3.put(5)"
   ]
  },
  {
   "cell_type": "code",
   "execution_count": null,
   "metadata": {
    "colab": {
     "base_uri": "https://localhost:8080/",
     "height": 316
    },
    "colab_type": "code",
    "id": "QHoiMDEzeuZJ",
    "outputId": "e6796efe-a25f-4223-de34-084d71a4b54f"
   },
   "outputs": [],
   "source": [
    "q3.put(6)"
   ]
  },
  {
   "cell_type": "code",
   "execution_count": null,
   "metadata": {},
   "outputs": [],
   "source": []
  }
 ],
 "metadata": {
  "colab": {
   "name": "Python Queue",
   "provenance": []
  },
  "kernelspec": {
   "display_name": "Python 3",
   "language": "python",
   "name": "python3"
  },
  "language_info": {
   "codemirror_mode": {
    "name": "ipython",
    "version": 3
   },
   "file_extension": ".py",
   "mimetype": "text/x-python",
   "name": "python",
   "nbconvert_exporter": "python",
   "pygments_lexer": "ipython3",
   "version": "3.8.3"
  }
 },
 "nbformat": 4,
 "nbformat_minor": 1
}
